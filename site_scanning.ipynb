{
 "cells": [
  {
   "cell_type": "code",
   "execution_count": 4,
   "id": "b6ac1e59",
   "metadata": {},
   "outputs": [
    {
     "name": "stdout",
     "output_type": "stream",
     "text": [
      "0.0     30.378480\n",
      "2.0     10.735064\n",
      "1.0     10.359712\n",
      "3.0      7.137942\n",
      "4.0      6.624961\n",
      "5.0      5.705349\n",
      "7.0      4.554270\n",
      "6.0      3.909916\n",
      "8.0      2.533625\n",
      "12.0     2.489834\n",
      "9.0      2.483578\n",
      "10.0     2.389740\n",
      "11.0     2.020644\n",
      "13.0     1.513919\n",
      "18.0     1.407570\n",
      "16.0     0.869565\n",
      "17.0     0.838286\n",
      "15.0     0.838286\n",
      "14.0     0.750704\n",
      "19.0     0.644354\n",
      "20.0     0.425399\n",
      "24.0     0.300282\n",
      "21.0     0.275258\n",
      "22.0     0.256490\n",
      "23.0     0.237723\n",
      "25.0     0.137629\n",
      "26.0     0.043791\n",
      "27.0     0.031279\n",
      "31.0     0.025023\n",
      "35.0     0.025023\n",
      "29.0     0.018768\n",
      "34.0     0.012512\n",
      "30.0     0.006256\n",
      "46.0     0.006256\n",
      "28.0     0.006256\n",
      "33.0     0.006256\n",
      "Name: third_party_service_count, dtype: float64\n"
     ]
    }
   ],
   "source": [
    "import pandas as pd\n",
    "import json\n",
    "\n",
    "# Load the data\n",
    "f = open('weekly-snapshot.json')\n",
    "data = json.load(f)\n",
    "df = pd.DataFrame(data)\n",
    "\n",
    "# Select only 200 status codes\n",
    "valid_status_df = df[df['final_url_status_code'] == 200]\n",
    "\n",
    "# Display percentages\n",
    "print(100 * valid_status_df['third_party_service_count'].value_counts(normalize=True))"
   ]
  },
  {
   "cell_type": "markdown",
   "id": "da95d73b",
   "metadata": {},
   "source": [
    "print(valid_status_df[valid_status_df['third_party_service_count'] > 30]['final_url'])"
   ]
  },
  {
   "cell_type": "code",
   "execution_count": null,
   "id": "b998ccb4",
   "metadata": {},
   "outputs": [],
   "source": []
  }
 ],
 "metadata": {
  "kernelspec": {
   "display_name": "Python 3 (ipykernel)",
   "language": "python",
   "name": "python3"
  },
  "language_info": {
   "codemirror_mode": {
    "name": "ipython",
    "version": 3
   },
   "file_extension": ".py",
   "mimetype": "text/x-python",
   "name": "python",
   "nbconvert_exporter": "python",
   "pygments_lexer": "ipython3",
   "version": "3.9.5"
  }
 },
 "nbformat": 4,
 "nbformat_minor": 5
}
