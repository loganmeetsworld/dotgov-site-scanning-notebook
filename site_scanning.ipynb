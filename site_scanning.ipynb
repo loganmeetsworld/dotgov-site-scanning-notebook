{
 "cells": [
  {
   "cell_type": "code",
   "execution_count": 24,
   "id": "b6ac1e59",
   "metadata": {
    "scrolled": true
   },
   "outputs": [
    {
     "name": "stdout",
     "output_type": "stream",
     "text": [
      "0.0     30.378480\n",
      "2.0     10.735064\n",
      "1.0     10.359712\n",
      "3.0      7.137942\n",
      "4.0      6.624961\n",
      "5.0      5.705349\n",
      "7.0      4.554270\n",
      "6.0      3.909916\n",
      "8.0      2.533625\n",
      "12.0     2.489834\n",
      "9.0      2.483578\n",
      "10.0     2.389740\n",
      "11.0     2.020644\n",
      "13.0     1.513919\n",
      "18.0     1.407570\n",
      "16.0     0.869565\n",
      "17.0     0.838286\n",
      "15.0     0.838286\n",
      "14.0     0.750704\n",
      "19.0     0.644354\n",
      "20.0     0.425399\n",
      "24.0     0.300282\n",
      "21.0     0.275258\n",
      "22.0     0.256490\n",
      "23.0     0.237723\n",
      "25.0     0.137629\n",
      "26.0     0.043791\n",
      "27.0     0.031279\n",
      "31.0     0.025023\n",
      "35.0     0.025023\n",
      "29.0     0.018768\n",
      "34.0     0.012512\n",
      "30.0     0.006256\n",
      "46.0     0.006256\n",
      "28.0     0.006256\n",
      "33.0     0.006256\n",
      "Name: third_party_service_count, dtype: float64\n",
      "1969                            https://www.cbp.gov/trade/\n",
      "3211                          https://takebackday.dea.gov/\n",
      "3496                             https://www.getwsone.com/\n",
      "10863                            https://www.medicare.gov/\n",
      "10872                            https://www.medicare.gov/\n",
      "10878                            https://www.medicare.gov/\n",
      "10882                            https://www.medicare.gov/\n",
      "10939    https://catalog.usmint.gov/verify-show?url=aHR...\n",
      "19386        https://helpdesk.scms.psc.gov/pro_users/login\n",
      "20421                              https://ylai.state.gov/\n",
      "20424                              https://ylai.state.gov/\n",
      "23633    https://catalog.usmint.gov/verify-show?url=aHR...\n",
      "Name: final_url, dtype: object\n"
     ]
    },
    {
     "data": {
      "text/plain": [
       "www.google-analytics.com       7667\n",
       "dap.digitalgov.gov             5077\n",
       "fonts.googleapis.com           3882\n",
       "fonts.gstatic.com              3873\n",
       "www.googletagmanager.com       3807\n",
       "www.youtube.com                2000\n",
       "cdnjs.cloudflare.com           1461\n",
       "script.crazyegg.com            1273\n",
       "ajax.googleapis.com            1092\n",
       "ssl.google-analytics.com       1028\n",
       "code.jquery.com                1008\n",
       "www.google.com                  971\n",
       "gateway.foresee.com             881\n",
       "www.gstatic.com                 850\n",
       "s7.addthis.com                  834\n",
       "z.moatads.com                   823\n",
       "m.addthis.com                   821\n",
       "js-agent.newrelic.com           773\n",
       "use.fontawesome.com             772\n",
       "search.usa.gov                  744\n",
       "analytics.foresee.com           738\n",
       "maxcdn.bootstrapcdn.com         690\n",
       "v1.addthisedge.com              574\n",
       "siteimproveanalytics.com        538\n",
       "syndication.twitter.com         535\n",
       "platform.twitter.com            532\n",
       "connect.facebook.net            511\n",
       "bam.nr-data.net                 485\n",
       "googleads.g.doubleclick.net     476\n",
       "static.hotjar.com               475\n",
       "dtype: int64"
      ]
     },
     "execution_count": 24,
     "metadata": {},
     "output_type": "execute_result"
    }
   ],
   "source": [
    "import pandas as pd\n",
    "import json\n",
    "from collections import Counter \n",
    "\n",
    "# Load the data\n",
    "f = open('weekly-snapshot.json')\n",
    "data = json.load(f)\n",
    "df = pd.DataFrame(data)\n",
    "\n",
    "# Select only 200 status codes\n",
    "valid_status_df = df[df['final_url_status_code'] == 200]\n",
    "\n",
    "# Display percentages\n",
    "print(100 * valid_status_df['third_party_service_count'].value_counts(normalize=True))\n",
    "\n",
    "# Investigate top offenders\n",
    "print(valid_status_df[valid_status_df['third_party_service_count'] > 30]['final_url'])\n",
    "\n",
    "no_none = valid_status_df.dropna(axis=0, subset=['third_party_service_domains'])\n",
    "def to_1D(series):\n",
    "    return pd.Series([x for _list in series for x in _list])\n",
    "\n",
    "to_1D(no_none[\"third_party_service_domains\"]).value_counts().nlargest(30)"
   ]
  },
  {
   "cell_type": "markdown",
   "id": "da95d73b",
   "metadata": {},
   "source": []
  },
  {
   "cell_type": "code",
   "execution_count": 1,
   "id": "b998ccb4",
   "metadata": {},
   "outputs": [
    {
     "ename": "NameError",
     "evalue": "name 'valid_status_df' is not defined",
     "output_type": "error",
     "traceback": [
      "\u001b[0;31m---------------------------------------------------------------------------\u001b[0m",
      "\u001b[0;31mNameError\u001b[0m                                 Traceback (most recent call last)",
      "\u001b[0;32m/var/folders/l3/s8rvs67n0vs6rfht4rwy_q9m0000gn/T/ipykernel_65714/1764866268.py\u001b[0m in \u001b[0;36m<module>\u001b[0;34m\u001b[0m\n\u001b[0;32m----> 1\u001b[0;31m \u001b[0mprint\u001b[0m\u001b[0;34m(\u001b[0m\u001b[0mvalid_status_df\u001b[0m\u001b[0;34m[\u001b[0m\u001b[0mvalid_status_df\u001b[0m\u001b[0;34m[\u001b[0m\u001b[0;34m'third_party_service_count'\u001b[0m\u001b[0;34m]\u001b[0m \u001b[0;34m>\u001b[0m \u001b[0;36m30\u001b[0m\u001b[0;34m]\u001b[0m\u001b[0;34m[\u001b[0m\u001b[0;34m'final_url'\u001b[0m\u001b[0;34m]\u001b[0m\u001b[0;34m)\u001b[0m\u001b[0;34m\u001b[0m\u001b[0;34m\u001b[0m\u001b[0m\n\u001b[0m",
      "\u001b[0;31mNameError\u001b[0m: name 'valid_status_df' is not defined"
     ]
    }
   ],
   "source": []
  },
  {
   "cell_type": "code",
   "execution_count": null,
   "id": "7ccc31d3",
   "metadata": {},
   "outputs": [],
   "source": []
  }
 ],
 "metadata": {
  "kernelspec": {
   "display_name": "Python 3 (ipykernel)",
   "language": "python",
   "name": "python3"
  },
  "language_info": {
   "codemirror_mode": {
    "name": "ipython",
    "version": 3
   },
   "file_extension": ".py",
   "mimetype": "text/x-python",
   "name": "python",
   "nbconvert_exporter": "python",
   "pygments_lexer": "ipython3",
   "version": "3.9.5"
  }
 },
 "nbformat": 4,
 "nbformat_minor": 5
}
